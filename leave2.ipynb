{
 "cells": [
  {
   "cell_type": "code",
   "execution_count": null,
   "metadata": {},
   "outputs": [],
   "source": [
    "# Define the affine transformation matrices and translation vectors\n",
    "A1 = np.array([[0, 0], [0, 0.16]])\n",
    "A2 = np.array([[0.85, 0.04], [-0.04, 0.85]])\n",
    "A3 = np.array([[0.2, -0.26], [0.23, 0.22]])\n",
    "A4 = np.array([[-0.15, 0.28], [0.26, 0.24]])\n",
    "t1 = np.array([[0], [0]])\n",
    "t2 = np.array([[0], [1.6]])\n",
    "t3 = np.array([[0], [1.6]])\n",
    "t4 = np.array([[0], [0.44]])"
   ]
  }
 ],
 "metadata": {
  "language_info": {
   "name": "python"
  },
  "orig_nbformat": 4
 },
 "nbformat": 4,
 "nbformat_minor": 2
}
